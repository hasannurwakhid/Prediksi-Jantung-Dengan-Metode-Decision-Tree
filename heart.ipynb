{
 "cells": [
  {
   "cell_type": "markdown",
   "id": "c2f31a5b",
   "metadata": {},
   "source": [
    "# IDENTITAS\n",
    "Nama : Hasan Nur Wakhid        \n",
    "NIM : A11.2021.13853            \n",
    "Kelp : A11.4404           "
   ]
  },
  {
   "cell_type": "code",
   "execution_count": 1,
   "id": "5e48b46a",
   "metadata": {},
   "outputs": [],
   "source": [
    "import pandas as pd\n",
    "from sklearn.preprocessing import MinMaxScaler\n",
    "from sklearn.preprocessing import OneHotEncoder\n",
    "from sklearn.compose import ColumnTransformer\n",
    "from sklearn.model_selection import train_test_split\n",
    "from sklearn.tree import DecisionTreeClassifier\n",
    "from sklearn.metrics import classification_report, confusion_matrix\n",
    "import seaborn as sns\n",
    "import matplotlib.pyplot as plt\n",
    "from sklearn.neighbors import KNeighborsClassifier\n",
    "\n",
    "from sklearn.naive_bayes import GaussianNB"
   ]
  },
  {
   "cell_type": "code",
   "execution_count": 2,
   "id": "23674223",
   "metadata": {},
   "outputs": [],
   "source": [
    "# Membaca dataset\n",
    "data = pd.read_csv(\"heart.csv\")"
   ]
  },
  {
   "cell_type": "code",
   "execution_count": 3,
   "id": "5a48ed8f",
   "metadata": {},
   "outputs": [
    {
     "data": {
      "text/html": [
       "<div>\n",
       "<style scoped>\n",
       "    .dataframe tbody tr th:only-of-type {\n",
       "        vertical-align: middle;\n",
       "    }\n",
       "\n",
       "    .dataframe tbody tr th {\n",
       "        vertical-align: top;\n",
       "    }\n",
       "\n",
       "    .dataframe thead th {\n",
       "        text-align: right;\n",
       "    }\n",
       "</style>\n",
       "<table border=\"1\" class=\"dataframe\">\n",
       "  <thead>\n",
       "    <tr style=\"text-align: right;\">\n",
       "      <th></th>\n",
       "      <th>Age</th>\n",
       "      <th>Sex</th>\n",
       "      <th>ChestPainType</th>\n",
       "      <th>RestingBP</th>\n",
       "      <th>Cholesterol</th>\n",
       "      <th>FastingBS</th>\n",
       "      <th>RestingECG</th>\n",
       "      <th>MaxHR</th>\n",
       "      <th>ExerciseAngina</th>\n",
       "      <th>Oldpeak</th>\n",
       "      <th>ST_Slope</th>\n",
       "      <th>HeartDisease</th>\n",
       "    </tr>\n",
       "  </thead>\n",
       "  <tbody>\n",
       "    <tr>\n",
       "      <th>0</th>\n",
       "      <td>40</td>\n",
       "      <td>M</td>\n",
       "      <td>ATA</td>\n",
       "      <td>140</td>\n",
       "      <td>289</td>\n",
       "      <td>0</td>\n",
       "      <td>Normal</td>\n",
       "      <td>172</td>\n",
       "      <td>N</td>\n",
       "      <td>0.0</td>\n",
       "      <td>Up</td>\n",
       "      <td>0</td>\n",
       "    </tr>\n",
       "    <tr>\n",
       "      <th>1</th>\n",
       "      <td>49</td>\n",
       "      <td>F</td>\n",
       "      <td>NAP</td>\n",
       "      <td>160</td>\n",
       "      <td>180</td>\n",
       "      <td>0</td>\n",
       "      <td>Normal</td>\n",
       "      <td>156</td>\n",
       "      <td>N</td>\n",
       "      <td>1.0</td>\n",
       "      <td>Flat</td>\n",
       "      <td>1</td>\n",
       "    </tr>\n",
       "    <tr>\n",
       "      <th>2</th>\n",
       "      <td>37</td>\n",
       "      <td>M</td>\n",
       "      <td>ATA</td>\n",
       "      <td>130</td>\n",
       "      <td>283</td>\n",
       "      <td>0</td>\n",
       "      <td>ST</td>\n",
       "      <td>98</td>\n",
       "      <td>N</td>\n",
       "      <td>0.0</td>\n",
       "      <td>Up</td>\n",
       "      <td>0</td>\n",
       "    </tr>\n",
       "    <tr>\n",
       "      <th>3</th>\n",
       "      <td>48</td>\n",
       "      <td>F</td>\n",
       "      <td>ASY</td>\n",
       "      <td>138</td>\n",
       "      <td>214</td>\n",
       "      <td>0</td>\n",
       "      <td>Normal</td>\n",
       "      <td>108</td>\n",
       "      <td>Y</td>\n",
       "      <td>1.5</td>\n",
       "      <td>Flat</td>\n",
       "      <td>1</td>\n",
       "    </tr>\n",
       "    <tr>\n",
       "      <th>4</th>\n",
       "      <td>54</td>\n",
       "      <td>M</td>\n",
       "      <td>NAP</td>\n",
       "      <td>150</td>\n",
       "      <td>195</td>\n",
       "      <td>0</td>\n",
       "      <td>Normal</td>\n",
       "      <td>122</td>\n",
       "      <td>N</td>\n",
       "      <td>0.0</td>\n",
       "      <td>Up</td>\n",
       "      <td>0</td>\n",
       "    </tr>\n",
       "  </tbody>\n",
       "</table>\n",
       "</div>"
      ],
      "text/plain": [
       "   Age Sex ChestPainType  RestingBP  Cholesterol  FastingBS RestingECG  MaxHR  \\\n",
       "0   40   M           ATA        140          289          0     Normal    172   \n",
       "1   49   F           NAP        160          180          0     Normal    156   \n",
       "2   37   M           ATA        130          283          0         ST     98   \n",
       "3   48   F           ASY        138          214          0     Normal    108   \n",
       "4   54   M           NAP        150          195          0     Normal    122   \n",
       "\n",
       "  ExerciseAngina  Oldpeak ST_Slope  HeartDisease  \n",
       "0              N      0.0       Up             0  \n",
       "1              N      1.0     Flat             1  \n",
       "2              N      0.0       Up             0  \n",
       "3              Y      1.5     Flat             1  \n",
       "4              N      0.0       Up             0  "
      ]
     },
     "execution_count": 3,
     "metadata": {},
     "output_type": "execute_result"
    }
   ],
   "source": [
    "# Menampilkan 5 data teratas\n",
    "data.head()"
   ]
  },
  {
   "cell_type": "code",
   "execution_count": 4,
   "id": "6f9a77b7",
   "metadata": {},
   "outputs": [
    {
     "data": {
      "text/plain": [
       "Age               0\n",
       "Sex               0\n",
       "ChestPainType     0\n",
       "RestingBP         0\n",
       "Cholesterol       0\n",
       "FastingBS         0\n",
       "RestingECG        0\n",
       "MaxHR             0\n",
       "ExerciseAngina    0\n",
       "Oldpeak           0\n",
       "ST_Slope          0\n",
       "HeartDisease      0\n",
       "dtype: int64"
      ]
     },
     "execution_count": 4,
     "metadata": {},
     "output_type": "execute_result"
    }
   ],
   "source": [
    "# Mengecek apakah ada atribut yang missing value\n",
    "data.isnull().sum()"
   ]
  },
  {
   "cell_type": "code",
   "execution_count": 5,
   "id": "fc57c31e",
   "metadata": {},
   "outputs": [],
   "source": [
    "# Filter data hanya untuk individu dengan HeartDisease = 1\n",
    "heart_disease_data = data[data[\"HeartDisease\"] == 1]"
   ]
  },
  {
   "cell_type": "code",
   "execution_count": 6,
   "id": "1872bcd9",
   "metadata": {},
   "outputs": [
    {
     "data": {
      "image/png": "[encoded data removed]",
      "text/plain": [
       "<Figure size 1000x600 with 1 Axes>"
      ]
     },
     "metadata": {},
     "output_type": "display_data"
    }
   ],
   "source": [
    "# Menampilkan grafik jumlah individu dengan penyakit jantung berdasarkan kelompok usia\n",
    "plt.figure(figsize=(10, 6))\n",
    "sns.histplot(data=heart_disease_data, x=\"Age\", bins=20, kde=True)\n",
    "plt.title(\"Distribusi Penyakit Jantung berdasarkan Usia\")\n",
    "plt.xlabel(\"Usia\")\n",
    "plt.ylabel(\"Jumlah Individu\")\n",
    "plt.show()"
   ]
  },
  {
   "cell_type": "markdown",
   "id": "d4d9705f",
   "metadata": {},
   "source": [
    "dari grafik di atas dapat kita lihat paling banyak terkena penyakit jantung pada usia 50-70an"
   ]
  },
  {
   "cell_type": "code",
   "execution_count": 7,
   "id": "77db9938",
   "metadata": {},
   "outputs": [],
   "source": [
    "# Memisahkan fitur dan label\n",
    "X = data.drop(\"HeartDisease\", axis=1)\n",
    "y = data[\"HeartDisease\"]"
   ]
  },
  {
   "cell_type": "code",
   "execution_count": 8,
   "id": "c21fc6d8",
   "metadata": {},
   "outputs": [],
   "source": [
    "# Inisialisasi MinMaxScaler\n",
    "scaler = MinMaxScaler()"
   ]
  },
  {
   "cell_type": "code",
   "execution_count": 9,
   "id": "0a13b029",
   "metadata": {},
   "outputs": [],
   "source": [
    "# Inisialisasi OneHotEncoder untuk variabel kategorikal\n",
    "encoder = OneHotEncoder(drop='first')"
   ]
  },
  {
   "cell_type": "code",
   "execution_count": 10,
   "id": "62063ae9",
   "metadata": {},
   "outputs": [],
   "source": [
    "# Menentukan kolom-kolom yang akan dilakukan normalisasi dan encoding\n",
    "numerical_features = ['Age','RestingBP', 'Cholesterol', 'MaxHR', 'Oldpeak']\n",
    "categorical_features = ['Sex','ChestPainType', 'RestingECG', 'ExerciseAngina', 'ST_Slope']"
   ]
  },
  {
   "cell_type": "code",
   "execution_count": 11,
   "id": "f2378227",
   "metadata": {},
   "outputs": [],
   "source": [
    "# Membuat transformer untuk normalisasi dan encoding\n",
    "preprocessor = ColumnTransformer(\n",
    "    transformers=[\n",
    "        ('num', scaler, numerical_features),\n",
    "        ('cat', encoder, categorical_features)])"
   ]
  },
  {
   "cell_type": "code",
   "execution_count": 12,
   "id": "84eed971",
   "metadata": {},
   "outputs": [],
   "source": [
    "# Normalisasi dan encoding pada fitur-fitur\n",
    "X = preprocessor.fit_transform(X)"
   ]
  },
  {
   "cell_type": "code",
   "execution_count": 13,
   "id": "2caf6a67",
   "metadata": {},
   "outputs": [
    {
     "name": "stdout",
     "output_type": "stream",
     "text": [
      "[[0.24489796 0.7        0.47927032 ... 0.         0.         1.        ]\n",
      " [0.42857143 0.8        0.29850746 ... 0.         1.         0.        ]\n",
      " [0.18367347 0.65       0.46932007 ... 0.         0.         1.        ]\n",
      " ...\n",
      " [0.59183673 0.65       0.2172471  ... 1.         1.         0.        ]\n",
      " [0.59183673 0.65       0.39137645 ... 0.         1.         0.        ]\n",
      " [0.20408163 0.69       0.29021559 ... 0.         0.         1.        ]]\n"
     ]
    }
   ],
   "source": [
    "print(X)"
   ]
  },
  {
   "cell_type": "code",
   "execution_count": 14,
   "id": "edc89ff0",
   "metadata": {},
   "outputs": [],
   "source": [
    "# Memisahkan data menjadi data latih dan data uji\n",
    "X_train, X_test, y_train, y_test = train_test_split(X, y, test_size=0.2, random_state=42)"
   ]
  },
  {
   "cell_type": "markdown",
   "id": "92d59fd7",
   "metadata": {},
   "source": [
    "# DENGAN DECISION TREE"
   ]
  },
  {
   "cell_type": "code",
   "execution_count": 15,
   "id": "b9fce28a",
   "metadata": {},
   "outputs": [],
   "source": [
    "# Membuat model Decision Tree\n",
    "model_dcs = DecisionTreeClassifier()"
   ]
  },
  {
   "cell_type": "code",
   "execution_count": 16,
   "id": "2ccc140e",
   "metadata": {},
   "outputs": [
    {
     "data": {
      "text/plain": [
       "DecisionTreeClassifier()"
      ]
     },
     "execution_count": 16,
     "metadata": {},
     "output_type": "execute_result"
    }
   ],
   "source": [
    "# Melatih model\n",
    "model_dcs.fit(X_train, y_train)"
   ]
  },
  {
   "cell_type": "code",
   "execution_count": 17,
   "id": "227ab6f8",
   "metadata": {},
   "outputs": [],
   "source": [
    "# Memprediksi label untuk data uji\n",
    "y_pred = model_dcs.predict(X_test)"
   ]
  },
  {
   "cell_type": "code",
   "execution_count": 18,
   "id": "739dfef9",
   "metadata": {},
   "outputs": [],
   "source": [
    "# Membuat confusion matrix\n",
    "cm = confusion_matrix(y_test, y_pred)"
   ]
  },
  {
   "cell_type": "code",
   "execution_count": 19,
   "id": "94d6a0cd",
   "metadata": {},
   "outputs": [
    {
     "data": {
      "image/png": "[encoded data removed]",
      "text/plain": [
       "<Figure size 800x600 with 2 Axes>"
      ]
     },
     "metadata": {},
     "output_type": "display_data"
    }
   ],
   "source": [
    "# Membuat heatmap confusion matrix\n",
    "plt.figure(figsize=(8, 6))\n",
    "sns.heatmap(cm, annot=True, fmt=\"d\", cmap=\"Blues\")\n",
    "plt.title(\"Confusion Matrix\")\n",
    "plt.xlabel(\"Predicted Label\")\n",
    "plt.ylabel(\"True Label\")\n",
    "plt.show()"
   ]
  },
  {
   "cell_type": "code",
   "execution_count": 20,
   "id": "86d7e606",
   "metadata": {},
   "outputs": [
    {
     "name": "stdout",
     "output_type": "stream",
     "text": [
      "Classification Report:\n",
      "              precision    recall  f1-score   support\n",
      "\n",
      "           0       0.79      0.83      0.81        77\n",
      "           1       0.87      0.84      0.86       107\n",
      "\n",
      "    accuracy                           0.84       184\n",
      "   macro avg       0.83      0.84      0.83       184\n",
      "weighted avg       0.84      0.84      0.84       184\n",
      "\n"
     ]
    }
   ],
   "source": [
    "# Membuat classification report\n",
    "report = classification_report(y_test, y_pred)\n",
    "print(\"Classification Report:\")\n",
    "print(report)"
   ]
  },
  {
   "cell_type": "code",
   "execution_count": 21,
   "id": "e1f0786a",
   "metadata": {},
   "outputs": [],
   "source": [
    "import pickle\n",
    "pickle.dump(model_dcs, open('model.pkl', 'wb'))"
   ]
  },
  {
   "cell_type": "markdown",
   "id": "f9a7c392",
   "metadata": {},
   "source": [
    "# DENGAN NAIVE BAYES"
   ]
  },
  {
   "cell_type": "code",
   "execution_count": 22,
   "id": "087d2922",
   "metadata": {},
   "outputs": [
    {
     "data": {
      "text/plain": [
       "GaussianNB()"
      ]
     },
     "execution_count": 22,
     "metadata": {},
     "output_type": "execute_result"
    }
   ],
   "source": [
    "model_nb = GaussianNB()\n",
    "model_nb.fit(X_train, y_train)"
   ]
  },
  {
   "cell_type": "code",
   "execution_count": 23,
   "id": "d4a568fd",
   "metadata": {},
   "outputs": [],
   "source": [
    "y_pred = model_nb.predict(X_test)"
   ]
  },
  {
   "cell_type": "code",
   "execution_count": 24,
   "id": "e3315b9f",
   "metadata": {},
   "outputs": [],
   "source": [
    "# Membuat confusion matrix\n",
    "cm = confusion_matrix(y_test, y_pred)"
   ]
  },
  {
   "cell_type": "code",
   "execution_count": 25,
   "id": "66b3c259",
   "metadata": {},
   "outputs": [
    {
     "data": {
      "image/png": "[encoded data removed]",
      "text/plain": [
       "<Figure size 800x600 with 2 Axes>"
      ]
     },
     "metadata": {},
     "output_type": "display_data"
    }
   ],
   "source": [
    "# Membuat heatmap confusion matrix\n",
    "plt.figure(figsize=(8, 6))\n",
    "sns.heatmap(cm, annot=True, fmt=\"d\", cmap=\"Blues\")\n",
    "plt.title(\"Confusion Matrix\")\n",
    "plt.xlabel(\"Predicted Label\")\n",
    "plt.ylabel(\"True Label\")\n",
    "plt.show()"
   ]
  },
  {
   "cell_type": "code",
   "execution_count": 26,
   "id": "a5ad531f",
   "metadata": {},
   "outputs": [
    {
     "name": "stdout",
     "output_type": "stream",
     "text": [
      "Classification Report:\n",
      "              precision    recall  f1-score   support\n",
      "\n",
      "           0       0.76      0.88      0.82        77\n",
      "           1       0.91      0.80      0.85       107\n",
      "\n",
      "    accuracy                           0.84       184\n",
      "   macro avg       0.83      0.84      0.84       184\n",
      "weighted avg       0.85      0.84      0.84       184\n",
      "\n"
     ]
    }
   ],
   "source": [
    "# Membuat classification report\n",
    "report = classification_report(y_test, y_pred)\n",
    "print(\"Classification Report:\")\n",
    "print(report)"
   ]
  },
  {
   "cell_type": "markdown",
   "id": "715d08e2",
   "metadata": {},
   "source": [
    "# DENGAN KNN"
   ]
  },
  {
   "cell_type": "code",
   "execution_count": 27,
   "id": "64ecee5a",
   "metadata": {},
   "outputs": [
    {
     "data": {
      "text/plain": [
       "KNeighborsClassifier()"
      ]
     },
     "execution_count": 27,
     "metadata": {},
     "output_type": "execute_result"
    }
   ],
   "source": [
    "model_knn = KNeighborsClassifier()\n",
    "model_knn.fit(X_train, y_train)"
   ]
  },
  {
   "cell_type": "code",
   "execution_count": 28,
   "id": "351cbcc2",
   "metadata": {},
   "outputs": [
    {
     "name": "stderr",
     "output_type": "stream",
     "text": [
      "C:\\ProgramData\\Anaconda3\\lib\\site-packages\\sklearn\\neighbors\\_classification.py:228: FutureWarning: Unlike other reduction functions (e.g. `skew`, `kurtosis`), the default behavior of `mode` typically preserves the axis it acts along. In SciPy 1.11.0, this behavior will change: the default value of `keepdims` will become False, the `axis` over which the statistic is taken will be eliminated, and the value None will no longer be accepted. Set `keepdims` to True or False to avoid this warning.\n",
      "  mode, _ = stats.mode(_y[neigh_ind, k], axis=1)\n"
     ]
    }
   ],
   "source": [
    "y_pred = model_knn.predict(X_test)"
   ]
  },
  {
   "cell_type": "code",
   "execution_count": 29,
   "id": "fcb3d3a5",
   "metadata": {},
   "outputs": [],
   "source": [
    "# Membuat confusion matrix\n",
    "cm = confusion_matrix(y_test, y_pred)"
   ]
  },
  {
   "cell_type": "code",
   "execution_count": 30,
   "id": "c526e190",
   "metadata": {},
   "outputs": [
    {
     "data": {
      "image/png": "[encoded data removed]",
      "text/plain": [
       "<Figure size 800x600 with 2 Axes>"
      ]
     },
     "metadata": {},
     "output_type": "display_data"
    }
   ],
   "source": [
    "# Membuat heatmap confusion matrix\n",
    "plt.figure(figsize=(8, 6))\n",
    "sns.heatmap(cm, annot=True, fmt=\"d\", cmap=\"Blues\")\n",
    "plt.title(\"Confusion Matrix\")\n",
    "plt.xlabel(\"Predicted Label\")\n",
    "plt.ylabel(\"True Label\")\n",
    "plt.show()"
   ]
  },
  {
   "cell_type": "code",
   "execution_count": 31,
   "id": "01199071",
   "metadata": {},
   "outputs": [
    {
     "name": "stdout",
     "output_type": "stream",
     "text": [
      "Classification Report:\n",
      "              precision    recall  f1-score   support\n",
      "\n",
      "           0       0.75      0.86      0.80        77\n",
      "           1       0.89      0.79      0.84       107\n",
      "\n",
      "    accuracy                           0.82       184\n",
      "   macro avg       0.82      0.83      0.82       184\n",
      "weighted avg       0.83      0.82      0.82       184\n",
      "\n"
     ]
    }
   ],
   "source": [
    "# Membuat classification report\n",
    "report = classification_report(y_test, y_pred)\n",
    "print(\"Classification Report:\")\n",
    "print(report)"
   ]
  },
  {
   "cell_type": "markdown",
   "id": "1424e333",
   "metadata": {},
   "source": [
    "# MEMPREDIKSI IMPUTAN BARU DENGAN DECISION TREE"
   ]
  },
  {
   "cell_type": "code",
   "execution_count": null,
   "id": "bb763863",
   "metadata": {},
   "outputs": [],
   "source": [
    "# Memisahkan fitur dan label\n",
    "X = data.drop(\"HeartDisease\", axis=1)\n",
    "y = data[\"HeartDisease\"]"
   ]
  },
  {
   "cell_type": "code",
   "execution_count": null,
   "id": "c02523d6",
   "metadata": {},
   "outputs": [],
   "source": [
    "# Inisialisasi MinMaxScaler untuk fitur-fitur numerik\n",
    "scaler = MinMaxScaler()"
   ]
  },
  {
   "cell_type": "code",
   "execution_count": null,
   "id": "87ad8bcb",
   "metadata": {},
   "outputs": [],
   "source": [
    "# Inisialisasi OneHotEncoder untuk variabel kategorikal\n",
    "encoder = OneHotEncoder(drop='first')"
   ]
  },
  {
   "cell_type": "code",
   "execution_count": null,
   "id": "7eefe582",
   "metadata": {},
   "outputs": [],
   "source": [
    "# Menentukan kolom-kolom yang akan dilakukan normalisasi dan encoding\n",
    "numerical_features = ['Age','RestingBP', 'Cholesterol', 'MaxHR', 'Oldpeak']\n",
    "categorical_features = ['Sex','ChestPainType', 'RestingECG', 'ExerciseAngina', 'ST_Slope']"
   ]
  },
  {
   "cell_type": "code",
   "execution_count": null,
   "id": "a84dbc41",
   "metadata": {},
   "outputs": [],
   "source": [
    "# Membuat transformer untuk normalisasi dan encoding\n",
    "preprocessor = ColumnTransformer(\n",
    "    transformers=[\n",
    "        ('num', scaler, numerical_features),\n",
    "        ('cat', encoder, categorical_features)])"
   ]
  },
  {
   "cell_type": "code",
   "execution_count": null,
   "id": "12b2fe9e",
   "metadata": {},
   "outputs": [],
   "source": [
    "# Normalisasi dan encoding pada fitur-fitur\n",
    "X = preprocessor.fit_transform(X)"
   ]
  },
  {
   "cell_type": "code",
   "execution_count": null,
   "id": "76214e8d",
   "metadata": {},
   "outputs": [],
   "source": [
    "# Membuat dan melatih model Decision Tree\n",
    "model = DecisionTreeClassifier()\n",
    "model.fit(X, y)"
   ]
  },
  {
   "cell_type": "code",
   "execution_count": null,
   "id": "3c6a19f2",
   "metadata": {},
   "outputs": [],
   "source": [
    "Age = input(\"Masukkan usia: \")\n",
    "Sex = input(\"Masukkan jenis kelamin (M: Male, F: Female): \")\n",
    "ChestPainType = input(\"Masukkan jenis nyeri dada (TA: Typical Angina, ATA: Atypical Angina, NAP: Non-Anginal Pain, ASY: Asymptomatic): \")\n",
    "RestingBP = float(input(\"Masukkan tekanan darah saat istirahat: \"))\n",
    "Cholesterol = float(input(\"Masukkan kolesterol: \"))\n",
    "FastingBS = int(input(\"Masukkan gula darah saat berpuasa (1: if FastingBS > 120 mg/dl, 0: otherwise): \"))\n",
    "RestingECG = input(\"Masukkan elektrokardiografi istirahat (Normal: Normal, ST: having ST-T wave abnormality (T wave inversions and/or ST elevation or depression of > 0.05 mV), LVH: showing probable or definite left ventricular hypertrophy by Estes' criteria): \")\n",
    "MaxHR = float(input(\"Masukkan denyut jantung maksimal: \"))\n",
    "ExerciseAngina = input(\"Masukkan angina yang disebabkan oleh aktivitas (Y: Yes, N: No): \")\n",
    "Oldpeak = float(input(\"Masukkan ST depression yang diinduksi oleh olahraga relatif terhadap istirahat: \"))\n",
    "ST_Slope = input(\"Masukkan slope segmen ST (Up: upsloping, Flat: flat, Down: downsloping): \")"
   ]
  },
  {
   "cell_type": "code",
   "execution_count": null,
   "id": "0161a3b8",
   "metadata": {},
   "outputs": [],
   "source": [
    "# Contoh input atribut yang ingin diprediksi\n",
    "input_attributes = {\n",
    "    'Age': Age,\n",
    "    'Sex': Sex,\n",
    "    'ChestPainType': ChestPainType,\n",
    "    'RestingBP': RestingBP,\n",
    "    'Cholesterol': Cholesterol,\n",
    "    'FastingBS': FastingBS,\n",
    "    'RestingECG': RestingECG,\n",
    "    'MaxHR': MaxHR,\n",
    "    'ExerciseAngina': ExerciseAngina,\n",
    "    'Oldpeak': Oldpeak,\n",
    "    'ST_Slope': ST_Slope\n",
    "}"
   ]
  },
  {
   "cell_type": "code",
   "execution_count": null,
   "id": "2f7b9c81",
   "metadata": {},
   "outputs": [],
   "source": [
    "# Mengubah input menjadi bentuk DataFrame\n",
    "input_df = pd.DataFrame([input_attributes])"
   ]
  },
  {
   "cell_type": "code",
   "execution_count": null,
   "id": "e6b39da0",
   "metadata": {},
   "outputs": [],
   "source": [
    "print(input_df)"
   ]
  },
  {
   "cell_type": "code",
   "execution_count": null,
   "id": "a050f106",
   "metadata": {},
   "outputs": [],
   "source": [
    "# Melakukan normalisasi dan encoding pada input\n",
    "input_df = preprocessor.transform(input_df)"
   ]
  },
  {
   "cell_type": "code",
   "execution_count": null,
   "id": "fa865b1f",
   "metadata": {},
   "outputs": [],
   "source": [
    "print(input_df)"
   ]
  },
  {
   "cell_type": "code",
   "execution_count": null,
   "id": "f12e6a7e",
   "metadata": {},
   "outputs": [],
   "source": [
    "prediction = model.predict(input_df)"
   ]
  },
  {
   "cell_type": "code",
   "execution_count": null,
   "id": "9dfc2e96",
   "metadata": {},
   "outputs": [],
   "source": [
    "# Menghasilkan hasil prediksi\n",
    "if prediction[0] == 1:\n",
    "    result = \"Memiliki penyakit jantung\"\n",
    "else:\n",
    "    result = \"Tidak memiliki penyakit jantung\"\n",
    "\n",
    "print(\"Hasil Prediksi:\", result)"
   ]
  },
  {
   "cell_type": "markdown",
   "id": "54ae0e90",
   "metadata": {},
   "source": [
    "hal pertama yang saya lakukan adalah mengimport pustaka Python yang sekiranya dibutuhkan. Dataset saya dalam bentuk csv sehingga saya menggunakan read_csv dalam mengimpornya. Kemudian saya menampilkan 5 data teratas dari datataset tersebut menggunakan head() serta mengeceknya apakah ada missing value pada dataset dengan menggunakan isnull().sum() dan ternyata dataset tidak ada yang missing value. Saya ingin memvisualisasikan dari dataset tersebut yakni dengan menampilkan grafik jumlah individu dengan penyakit jantung berdasarkan kelompok usia, dari grafik di atas dapat kita lihat paling banyak terkena penyakit jantung pada usia 50-70an.\n",
    "\n",
    "Selanjutnya untuk klasifikasi saya memisahkan terlebih dahulu fitur dan labelnya, fitur saya masukkan ke variabel X dan label ke y. Kemudian saya juga menentukan kolom-kolom yang akan dilakukan normalisasi dan encoding serta memisahkan data menjadi data latih dan data uji dengan data uji sebesar 0.2 dan data latih sisanya. Untuk melihat hasil klasifikasi saya menampilkannya dengan confussion matrix dalam bentuk heatmap dan classification report.\n",
    "\n",
    "Dari hal yang telah saya lakukan di atas dapat kita ketahui dari dataset paling banyak menderita penyakit jantung adalah umur 50-70 tahun. Setelah itu saya klasifikasikan menggunakan metode Decision Tree dan saya tampilkan laporan klasifikasinya, dari laporan itu menunjukkan klasifikasinya dengan tingkat akurasi mencapai sekitar 80%. Dengan menggunakan metode Decision Tree juga saya prediksi terhadap inputan baru dengan atribut-atribut yang diinputkan apakah menderita penyakit jantung atau tidak."
   ]
  },
  {
   "cell_type": "code",
   "execution_count": null,
   "id": "08117d12",
   "metadata": {},
   "outputs": [],
   "source": []
  }
 ],
 "metadata": {
  "kernelspec": {
   "display_name": "Python 3 (ipykernel)",
   "language": "python",
   "name": "python3"
  },
  "language_info": {
   "codemirror_mode": {
    "name": "ipython",
    "version": 3
   },
   "file_extension": ".py",
   "mimetype": "text/x-python",
   "name": "python",
   "nbconvert_exporter": "python",
   "pygments_lexer": "ipython3",
   "version": "3.9.13"
  }
 },
 "nbformat": 4,
 "nbformat_minor": 5
}
